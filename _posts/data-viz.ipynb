{
 "cells": [
  {
   "cell_type": "markdown",
   "metadata": {
    "slideshow": {
     "slide_type": "subslide"
    }
   },
   "source": [
    "### Learning Objectives\n",
    "*After this lesson, you will be able to:*\n",
    "- Describe why data visualization is important.\n",
    "- Identify the characteristics of a great data visualization.\n",
    "- Describe when you would use a bar chart, pie chart, scatter plot, and histogram."
   ]
  },
  {
   "cell_type": "markdown",
   "metadata": {
    "slideshow": {
     "slide_type": "subslide"
    }
   },
   "source": [
    "### Lesson Guide\n",
    "\n",
    "- [Why Use Data Visualization?](#why)\n",
    "- [Anscombe's Quartet](#anscombe)\n",
    "- [Attributes of Good Visualization](#attributes)\n",
    "- [Choosing the Right Chart](#choosing)"
   ]
  },
  {
   "cell_type": "markdown",
   "metadata": {
    "slideshow": {
     "slide_type": "subslide"
    }
   },
   "source": [
    "<a id='why'></a>\n",
    "\n",
    "### Question: *Why Use Data Visualization?*\n",
    "\n",
    "---\n",
    "\n",
    "Today, I thought it would be useful to discuss some of the ways data visualization is useful, and why it's important."
   ]
  },
  {
   "cell_type": "markdown",
   "metadata": {
    "slideshow": {
     "slide_type": "slide"
    }
   },
   "source": [
    "### Why Use Data Visualization?\n",
    "\n",
    "---\n",
    "\n",
    "Because of the way the human brain processes information, charts or graphs that visualize large amounts of complex data are easier to understand than spreadsheets or reports. \n",
    "\n",
    "- Data visualization is a quick, easy way to convey concepts in a universal  manner — and you can experiment with different scenarios by making slight adjustments.\n",
    "\n",
    "- Here's a helpful overview of the importance of data visualization: [SAS: Data Visualization](http://www.sas.com/en_us/insights/big-data/data-visualization.html)"
   ]
  },
  {
   "cell_type": "markdown",
   "metadata": {
    "slideshow": {
     "slide_type": "slide"
    }
   },
   "source": [
    "#### Challenger Shuttle Disaster: A Case Study\n",
    "\n",
    "Although *Edward Tufte* made great contributions to our understanding of the visual communication of information, through numerous books and articles, his most famous contribution was his critique of the handling of the **1986 Challenger Shuttle disaster**.\n",
    "\n",
    "<img src=\"https://upload.wikimedia.org/wikipedia/commons/thumb/f/fd/STS-51-L_-_Space_Shuttle_Challenger_on_the_Crawler-Transporter.jpg/220px-STS-51-L_-_Space_Shuttle_Challenger_on_the_Crawler-Transporter.jpg\" style=\"width: 250px;\"/>"
   ]
  },
  {
   "cell_type": "markdown",
   "metadata": {
    "slideshow": {
     "slide_type": "subslide"
    }
   },
   "source": [
    "In his critique, he highlights the poor representation of data by NASA scientists and engineers in the days leading up to the deaths of all seven crew members. We can see an example of the representations used below:\n",
    "\n",
    "<img src=\"./assets/o_ring_rockets.jpg\" style=\"width: 450px;\"/>"
   ]
  },
  {
   "cell_type": "markdown",
   "metadata": {
    "slideshow": {
     "slide_type": "fragment"
    }
   },
   "source": [
    "> **After thorough inspection** of the figure above, it would seem NASA engineers had collected data indicating that ***rubber O-rings failed to seal correctly in cold weather.***\n",
    "> - But these charts were unable to sufficiently convey the danger of a liftoff in the colder-than-average weather that morning. \n",
    "> - *e.g.* Vertical typing is hard to read, the rocket cartoons obscure information..."
   ]
  },
  {
   "cell_type": "markdown",
   "metadata": {
    "slideshow": {
     "slide_type": "subslide"
    }
   },
   "source": [
    "*Most importantly,* had the data on O-ring performance been arranged by the most critical factor, temperature, instead of by launch date, decision makers would have had a much better chance of seeing that the launch, proposed to occur in weather below 66 degrees, would very likely lead to O-ring failure (see below).\n",
    "\n",
    "<img src=\"./assets/ring_damage.jpg\" style=\"width: 700px;\"/>\n",
    "\n",
    "Instead, as we all know, the launch proceeded when the temperature was 36 degrees, and the shuttle exploded 73 seconds after liftoff.\n",
    "\n",
    "[Source](https://stanfordmag.org/contents/elemental-evidence)"
   ]
  },
  {
   "cell_type": "markdown",
   "metadata": {
    "slideshow": {
     "slide_type": "subslide"
    }
   },
   "source": [
    "> #### Heavy, *right?*\n",
    ">\n",
    "> Rest assured, most of our visualizations won't be involved in life and death decision-making like they do at NASA..."
   ]
  },
  {
   "cell_type": "markdown",
   "metadata": {
    "slideshow": {
     "slide_type": "subslide"
    }
   },
   "source": [
    "<a id='anscombe'></a>\n",
    "\n",
    "### Anscombe's Quartet\n",
    "\n",
    "---\n",
    "\n",
    "Below are the summary statistics for four plots. What do you think the visualization for each plot would look like? \n",
    "\n",
    "<img src=\"./assets/anscombs_quartet.png\" style=\"width: 500px;\"/>\n"
   ]
  },
  {
   "cell_type": "markdown",
   "metadata": {
    "slideshow": {
     "slide_type": "subslide"
    }
   },
   "source": [
    "You can probably already guess what the answer is: Although the four plots have the same summary statistics, \n",
    "they are actually completely different. This can be seen when we visualize them together. \n",
    "\n",
    "<img src=\"./assets/anscombs_viz.png\" style=\"width: 700px;\"/>"
   ]
  },
  {
   "cell_type": "markdown",
   "metadata": {
    "slideshow": {
     "slide_type": "subslide"
    }
   },
   "source": [
    "These descriptive statistics come from a data set constructed in 1973 by the statistician Francis Anscombe. It is a classic demonstration of the importance of data visualization.\n",
    "\n",
    "- It highlights the limitations of summary statistics.\n",
    "- It shows the effect of outliers on statistical properties.\n",
    "- Anscombe's intention was to attack the impression among statisticians that \"numerical calculations are exact, but graphs are rough.\""
   ]
  },
  {
   "cell_type": "markdown",
   "metadata": {
    "slideshow": {
     "slide_type": "slide"
    }
   },
   "source": [
    "<a id='attributes'></a>\n",
    "\n",
    "### Attributes of Good Visualization\n",
    "\n",
    "Let's take a look at a handful of examples and see if we can better understand what it takes to make a figure ***\"great\"***."
   ]
  },
  {
   "cell_type": "markdown",
   "metadata": {
    "slideshow": {
     "slide_type": "subslide"
    }
   },
   "source": [
    "#### Figure 1A\n",
    "Some plots are great because they are simple, and ask *good questions*.\n",
    "<img src=\"https://johnwmillr.github.io/assets/images/FreqPlot_beer_and_truck.png\" style=\"width: 500px;\"/>"
   ]
  },
  {
   "cell_type": "markdown",
   "metadata": {
    "slideshow": {
     "slide_type": "subslide"
    }
   },
   "source": [
    "#### Figure 1B\n",
    "<img src=\"https://johnwmillr.github.io/assets/images/FreqPlot_girl_and_love.png\" style=\"width: 500px;\"/>"
   ]
  },
  {
   "cell_type": "markdown",
   "metadata": {
    "slideshow": {
     "slide_type": "subslide"
    }
   },
   "source": [
    "#### Figure 2\n",
    "Others plots are great because while they are more complicated, they *clearly convey information*.\n",
    "<img src=\"http://www.randalolson.com/wp-content/uploads/percent-bachelors-degrees-women-usa.png\" style=\"width: 700px;\"/>"
   ]
  },
  {
   "cell_type": "markdown",
   "metadata": {
    "slideshow": {
     "slide_type": "subslide"
    }
   },
   "source": [
    "#### Figure 3\n",
    "Sometimes plots are great purely out of **dumb luck**.\n",
    "<img src=\"https://fivethirtyeight.com/wp-content/uploads/2018/04/hickey-cage-01.png?w=1150\" style=\"width: 500px;\"/>"
   ]
  },
  {
   "cell_type": "markdown",
   "metadata": {
    "slideshow": {
     "slide_type": "subslide"
    }
   },
   "source": [
    "#### Figure 4\n",
    "But, often plots are great because they manage to clearly represent otherwise ***complicated relationships.***\n",
    "<img src=\"https://fivethirtyeight.com/wp-content/uploads/2018/05/wezerek-derby-01.png?w=2048\" style=\"width: 800px;\"/>"
   ]
  },
  {
   "cell_type": "markdown",
   "metadata": {
    "slideshow": {
     "slide_type": "subslide"
    }
   },
   "source": [
    "#### Figure 5\n",
    "And more and more often, plots are great because they offer a greater range of information through **interactive** inputs.\n",
    "\n",
    "In case anyone is [***getting hungry***](https://fivethirtyeight.com/burrito/#brackets-view)..."
   ]
  },
  {
   "cell_type": "markdown",
   "metadata": {
    "slideshow": {
     "slide_type": "slide"
    }
   },
   "source": [
    "<a id='choosing'></a>\n",
    "\n",
    "### Choosing the Right Chart\n",
    "\n",
    "---\n",
    "\n",
    "\n",
    "In addition to considering data visualization attributes, you should also carefully choose the type of chart or graph you'll use. \n",
    "- Below is a really useful flow-chart to help you select the right visualization for your problem. \n",
    "\n",
    "<img src=\"http://www.perceptualedge.com/blog/wp-content/uploads/2015/07/Abelas-Chart-Selection-Diagram.jpg\" style=\"width: 900px;\"/>\n",
    "\n",
    "PDF version [here.](http://extremepresentation.typepad.com/files/choosing-a-good-chart-09.pdf)"
   ]
  }
 ],
 "metadata": {
  "anaconda-cloud": {},
  "celltoolbar": "Slideshow",
  "kernelspec": {
   "display_name": "Python [default]",
   "language": "python",
   "name": "python3"
  },
  "language_info": {
   "codemirror_mode": {
    "name": "ipython",
    "version": 3
   },
   "file_extension": ".py",
   "mimetype": "text/x-python",
   "name": "python",
   "nbconvert_exporter": "python",
   "pygments_lexer": "ipython3",
   "version": "3.6.4"
  }
 },
 "nbformat": 4,
 "nbformat_minor": 1
}
